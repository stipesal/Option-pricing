{
 "cells": [
  {
   "cell_type": "code",
   "execution_count": 1,
   "metadata": {
    "ExecuteTime": {
     "end_time": "2021-02-28T22:14:53.258826Z",
     "start_time": "2021-02-28T22:14:52.332574Z"
    }
   },
   "outputs": [],
   "source": [
    "import os\n",
    "import sys\n",
    "import numpy as np\n",
    "import matplotlib.pylab as plt\n",
    "from tqdm.notebook import tqdm\n",
    "from scipy.stats import norm\n",
    "\n",
    "sys.path.insert(0,'..')\n",
    "from src.stochastic_process import wienerprocess\n",
    "from src.sde_solver import eulerMaruyama"
   ]
  },
  {
   "cell_type": "code",
   "execution_count": 2,
   "metadata": {},
   "outputs": [],
   "source": [
    "plt.rc('axes', labelsize=16)     # fontsize of the x and y labels\n",
    "plt.rc('xtick', labelsize=12)    # fontsize of the tick labels\n",
    "plt.rc('ytick', labelsize=12)    # fontsize of the tick labels\n",
    "plt.rc('legend', fontsize=14)    # legend fontsize"
   ]
  },
  {
   "cell_type": "markdown",
   "metadata": {},
   "source": [
    "# Monte Carlo method for pricing european options\n",
    "\n",
    "The idea behind Monte Carlo methods is to repeat random sampling in order to obtain numerical results. This is usually done via simulation of random components in the model. In option pricing, the randomness is introduced by the price path for the underlying, that is the geometric Brownian motion in case of the Black-Scholes model.\n",
    "\n",
    "The price of an European call option today is the discounted expected value\n",
    "\n",
    "$$\n",
    "V(0) = e^{-r T} \\mathbb{E}\\left[(S(T) - K)^+\\right],\n",
    "$$\n",
    "\n",
    "where $r$ denotes the risk-free rate, $T$ is the maturity, and $K$ the strike. \n",
    "\n",
    "The goal of the Monte Carlo method is to approximate the expectation in the above expression using simulation. For this we need a sufficiently large number of samples $m \\in \\mathbb{N}$ to represent the underlying. The samples in our case are Wiener paths $W_t^i$ for $i=1,\\ldots, m$. Using a numerical scheme such as the Euler-Maruyama method for solving SDEs we then obtain approximations $(S_n^i)_{n=1, \\ldots, N}$ for each Wiener path $W_t^i$. We obtain the (not yet discounted) option value by averaging\n",
    "\n",
    "$$\n",
    "\\mathbb{E}\\left[(S(T) - K)^+\\right] \\approx \\frac{1}{m} \\sum_{i=1}^{m} (S^i_N - K)^+.\n",
    "$$\n",
    "\n",
    "## Two sources of error\n",
    "\n",
    "So there are two error terms here, namely\n",
    "\n",
    "1. the step size $\\tau = T/N$ with which the SDE solver (e.g. Euler-Maruyama) operates, and\n",
    "2. the number of Monte Carlo samples $m \\in \\mathbb{N}$ to approximate the expectation.\n",
    "\n",
    "**Goal of the notebook**\n",
    "\n",
    "It is clear that higher values for both $N \\in \\mathbb{N}$ and $m \\in \\mathbb{N}$ lead to smaller errors. The aim of this notebook is to investigate the order of convergence in the time steps $N$ and the number of Monte Carlo samples $m$."
   ]
  },
  {
   "cell_type": "code",
   "execution_count": 3,
   "metadata": {
    "ExecuteTime": {
     "end_time": "2021-02-28T22:15:05.613672Z",
     "start_time": "2021-02-28T22:15:05.608552Z"
    }
   },
   "outputs": [],
   "source": [
    "def MCEuropean(n_paths, s0, K, r, sigma, T, N=None):\n",
    "    if N is None:\n",
    "        wiener_T = np.sqrt(T) * np.random.randn(n_paths)\n",
    "        underlying_T = s0 * np.exp((r - sigma**2 / 2) * T + sigma * wiener_T)\n",
    "    else:\n",
    "        underlying_T = eulerMaruyama(r, sigma, s0, N, T, n_paths)\n",
    "    \n",
    "    opt_vals = np.exp(-r * T) * payoff(underlying_T)\n",
    "    \n",
    "    val = np.mean(opt_vals)\n",
    "    variance = np.var(opt_vals) / n_paths\n",
    "\n",
    "    return val, variance"
   ]
  },
  {
   "cell_type": "markdown",
   "metadata": {},
   "source": [
    "## Black-Scholes formula\n",
    "\n",
    "In order to test and measure the error of our Monte Carlo method we need the analytical Black-Scholes solution, which is given by\n",
    "\n",
    "$$\n",
    "C(S, t) = S \\Phi(d_1) - K e^{-r(T-t)} \\Phi (d_2)\n",
    "$$\n",
    "\n",
    "for a European call, and \n",
    "\n",
    "$$\n",
    "P(S, t) = K e^{-r (T-t)} \\Phi(-d_2) - S \\Phi(-d_1)\n",
    "$$\n",
    "\n",
    "for a European Put option, with\n",
    "\n",
    "$$\n",
    "d_{1, 2} = \\frac{\\ln (S/K) + (r \\pm \\sigma^2 / 2)(T-t)}{\\sigma \\sqrt{T-t}}\n",
    "$$\n",
    "\n",
    "and $\\Phi$ being the cummulative of the standard normal distribution."
   ]
  },
  {
   "cell_type": "code",
   "execution_count": 4,
   "metadata": {
    "ExecuteTime": {
     "end_time": "2021-02-28T22:15:30.013795Z",
     "start_time": "2021-02-28T22:15:30.004517Z"
    }
   },
   "outputs": [],
   "source": [
    "def BlackScholes(S, t, K, r, sigma, T, option):    \n",
    "    d1 = (np.log(S / K) + (r + sigma ** 2 / 2) * (T - t)) / np.sqrt(T - t) / sigma\n",
    "    d2 = (np.log(S / K) + (r - sigma ** 2 / 2) * (T - t)) / np.sqrt(T - t) / sigma\n",
    "    \n",
    "    if option == 'call':\n",
    "        val = S * norm.cdf(d1) - K * np.exp(-r * (T - t)) * norm.cdf(d2)\n",
    "    elif option == 'put':\n",
    "        val = K * np.exp(-r * (T - t)) * norm.cdf(-d2) - S * norm.cdf(-d1)\n",
    "    \n",
    "    return val"
   ]
  },
  {
   "cell_type": "markdown",
   "metadata": {},
   "source": [
    "## Option parameters\n",
    "\n",
    "Let's fix some option parameters for a European call and test the Monte Carlo method by comparing with the one we get from the Black-Scholes formula."
   ]
  },
  {
   "cell_type": "code",
   "execution_count": 5,
   "metadata": {
    "ExecuteTime": {
     "end_time": "2021-02-28T22:15:33.230151Z",
     "start_time": "2021-02-28T22:15:33.225871Z"
    }
   },
   "outputs": [],
   "source": [
    "s0 = 12\n",
    "K = 10\n",
    "r = 0.3\n",
    "sigma = 0.1\n",
    "T = 1\n",
    "option = 'call'\n",
    "\n",
    "if option == 'call':\n",
    "    payoff = lambda s: np.maximum(s - K, 0)\n",
    "elif option == 'put':\n",
    "    payoff = lambda s: np.maximum(K - s, 0)"
   ]
  },
  {
   "cell_type": "code",
   "execution_count": 6,
   "metadata": {
    "ExecuteTime": {
     "end_time": "2021-02-28T22:15:34.307744Z",
     "start_time": "2021-02-28T22:15:34.302837Z"
    }
   },
   "outputs": [
    {
     "name": "stdout",
     "output_type": "stream",
     "text": [
      "Black-Scholes: 4.592\n"
     ]
    }
   ],
   "source": [
    "today = 0\n",
    "bs_val = BlackScholes(s0, today, K, r, sigma, T, option)\n",
    "print(f\"Black-Scholes: {bs_val:.3f}\")"
   ]
  },
  {
   "cell_type": "code",
   "execution_count": 7,
   "metadata": {},
   "outputs": [
    {
     "name": "stdout",
     "output_type": "stream",
     "text": [
      "Monte Carlo: 4.566\n",
      "Variance: 1.47e-03\n"
     ]
    }
   ],
   "source": [
    "n_paths = 1000\n",
    "mc_val, mc_var = MCEuropean(n_paths, s0, K, r, sigma, T)\n",
    "print(f\"Monte Carlo: {mc_val:.3f}\")\n",
    "print(f\"Variance: {mc_var:.2e}\")"
   ]
  },
  {
   "cell_type": "markdown",
   "metadata": {},
   "source": [
    "**Note** that the Monte Carlo result changes when we run the cell again since it is based on randomness."
   ]
  },
  {
   "cell_type": "markdown",
   "metadata": {},
   "source": [
    "# Step size error\n",
    "\n",
    "We will investigate the role of the step size $\\tau = T / N$ by varying the number of time steps $N \\in \\mathbb{N}$. Let's fix $m = 500.000$ Monte Carlo samples and use variable number of time steps $N = 2^k$ for $k=1,\\ldots,8$."
   ]
  },
  {
   "cell_type": "code",
   "execution_count": 8,
   "metadata": {
    "ExecuteTime": {
     "end_time": "2021-02-28T22:15:59.118836Z",
     "start_time": "2021-02-28T22:15:36.519048Z"
    }
   },
   "outputs": [
    {
     "data": {
      "application/vnd.jupyter.widget-view+json": {
       "model_id": "ae7d0113f4bf4483b8208d61bc81b587",
       "version_major": 2,
       "version_minor": 0
      },
      "text/plain": [
       "  0%|          | 0/8 [00:00<?, ?it/s]"
      ]
     },
     "metadata": {},
     "output_type": "display_data"
    }
   ],
   "source": [
    "m = 500_000\n",
    "time_steps = np.array([2**k for k in range(1, 9)])\n",
    "\n",
    "errors, rmse = [], []\n",
    "for n in tqdm(time_steps):\n",
    "    mc_val, var = MCEuropean(m, s0, K, r, sigma, T, N=n)\n",
    "    errors.append(np.abs(mc_val - bs_val))\n",
    "    rmse.append(np.sqrt(var + (mc_val - bs_val)**2))"
   ]
  },
  {
   "cell_type": "code",
   "execution_count": 9,
   "metadata": {
    "ExecuteTime": {
     "end_time": "2021-02-28T22:16:03.607144Z",
     "start_time": "2021-02-28T22:16:02.717436Z"
    }
   },
   "outputs": [
    {
     "data": {
      "image/png": "[encoded data removed]",
      "text/plain": [
       "<Figure size 432x432 with 1 Axes>"
      ]
     },
     "metadata": {
      "needs_background": "light"
     },
     "output_type": "display_data"
    }
   ],
   "source": [
    "fig = plt.figure(figsize=(6, 6))\n",
    "plt.loglog(T / time_steps, errors, 'ro-', markersize=8, fillstyle='none', label='Weak error')\n",
    "plt.loglog(T / time_steps, rmse, 'bo-', markersize=8, fillstyle='none', label='RMSE')\n",
    "plt.loglog(T / time_steps, 2 * (T / time_steps)**1.0, 'k', label='order 1')\n",
    "plt.xlabel(r'$\\tau$')\n",
    "plt.ylabel('error')\n",
    "plt.title('Step size error', size=20)\n",
    "plt.grid()\n",
    "plt.legend();"
   ]
  },
  {
   "cell_type": "markdown",
   "metadata": {},
   "source": [
    "What we can see here is basically the **weak order of $1$**\n",
    "\n",
    "$$\n",
    "| \\mathbb{E}\\, [F(X(t_n))] - \\mathbb{E} \\, [F(X_n)]| \\in \\mathcal{O}(\\tau^{\\gamma})\n",
    "$$\n",
    "\n",
    "for the Euler-Maruyama method with the function $F$ being the payoff function here."
   ]
  },
  {
   "cell_type": "markdown",
   "metadata": {},
   "source": [
    "# Sample size error\n",
    "\n",
    "In order to investigate the number of Monte Carlo samples $m \\in \\mathbb{N}$ versus the error, we could choose one sufficiently large number of time steps $N \\in \\mathbb{N}$ for the SDE solver and repeat the process by varying the number number of samples $m \\in \\mathbb{N}$. However, we have access to the exact solution of the SDE, namely the geometric Brownian motion \n",
    "\n",
    "$$\n",
    "S_t = S_0 \\exp \\left[\\left(\\mu - \\frac{\\sigma^2}{2}\\right)t + \\sigma W_t\\right].\n",
    "$$\n",
    "\n",
    "Thus there is no need to solve the SDE numerically. We will use Monte Carlo sample sizes $m = 10^k$ for $k=1,\\,1.5,\\ldots,6.5,\\,7$ to investigate their impact on the error."
   ]
  },
  {
   "cell_type": "code",
   "execution_count": 10,
   "metadata": {
    "ExecuteTime": {
     "end_time": "2021-02-28T22:17:25.171114Z",
     "start_time": "2021-02-28T22:17:24.340571Z"
    }
   },
   "outputs": [],
   "source": [
    "sample_sizes = np.array([int(10 ** k) for k in np.arange(1, 7.5, 0.5)])\n",
    "\n",
    "errors, rmse = [], []\n",
    "for m in sample_sizes:\n",
    "    mc_val, var = MCEuropean(m, s0, K, r, sigma, T)\n",
    "    errors.append(np.abs(mc_val - bs_val))\n",
    "    rmse.append(np.sqrt(var + (mc_val - bs_val)**2))"
   ]
  },
  {
   "cell_type": "code",
   "execution_count": 11,
   "metadata": {
    "ExecuteTime": {
     "end_time": "2021-02-28T22:17:26.097705Z",
     "start_time": "2021-02-28T22:17:25.184897Z"
    }
   },
   "outputs": [
    {
     "data": {
      "image/png": "[encoded data removed]",
      "text/plain": [
       "<Figure size 432x432 with 1 Axes>"
      ]
     },
     "metadata": {
      "needs_background": "light"
     },
     "output_type": "display_data"
    }
   ],
   "source": [
    "fig = plt.figure(figsize=(6, 6))\n",
    "plt.loglog(sample_sizes, errors, 'ro-', markersize=8, fillstyle='none', label='Weak error')\n",
    "plt.loglog(sample_sizes, rmse, 'bo-', markersize=8, fillstyle='none', label='RMSE')\n",
    "plt.loglog(sample_sizes, 10*sample_sizes**-0.5, 'k', label='order 0.5')\n",
    "plt.xticks(size=16); plt.yticks(size=16);\n",
    "plt.xlabel(r'$m$', size=18), plt.ylabel('error', size=18)\n",
    "plt.title('Sample Size error', size=20); plt.grid()\n",
    "plt.legend(fontsize=16, loc='best');"
   ]
  },
  {
   "cell_type": "markdown",
   "metadata": {},
   "source": [
    "This result is well known; the error for a Monte Carlo approximation is of the order $\\sqrt{m}$ where $m \\in \\mathbb{N}$ is the number of samples used. Therefore, in summary, if we want to **reduce the error of our Monte Carlo option value approximation by a factor of 10**, we could use \n",
    "\n",
    "* $100$ times more Monte Carlo Samples $m \\in \\mathbb{N}$, **or**\n",
    "* use $10$ times more number of time steps $N \\in \\mathbb{N}$ in the SDE solver."
   ]
  }
 ],
 "metadata": {
  "@webio": {
   "lastCommId": null,
   "lastKernelId": null
  },
  "kernelspec": {
   "display_name": "Python 3 (ipykernel)",
   "language": "python",
   "name": "python3"
  },
  "language_info": {
   "codemirror_mode": {
    "name": "ipython",
    "version": 3
   },
   "file_extension": ".py",
   "mimetype": "text/x-python",
   "name": "python",
   "nbconvert_exporter": "python",
   "pygments_lexer": "ipython3",
   "version": "3.9.6"
  },
  "varInspector": {
   "cols": {
    "lenName": 16,
    "lenType": 16,
    "lenVar": 40
   },
   "kernels_config": {
    "python": {
     "delete_cmd_postfix": "",
     "delete_cmd_prefix": "del ",
     "library": "var_list.py",
     "varRefreshCmd": "print(var_dic_list())"
    },
    "r": {
     "delete_cmd_postfix": ") ",
     "delete_cmd_prefix": "rm(",
     "library": "var_list.r",
     "varRefreshCmd": "cat(var_dic_list()) "
    }
   },
   "types_to_exclude": [
    "module",
    "function",
    "builtin_function_or_method",
    "instance",
    "_Feature"
   ],
   "window_display": false
  }
 },
 "nbformat": 4,
 "nbformat_minor": 2
}
